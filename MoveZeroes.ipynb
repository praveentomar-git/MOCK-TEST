{
 "cells": [
  {
   "cell_type": "markdown",
   "id": "f3b8c6ed",
   "metadata": {},
   "source": [
    "**Question**\n",
    "Given an integer array nums, move all 0's to the end of it while maintaining the relative order of the non-zero elements.\n",
    "\n",
    "Note that you must do this in-place without making a copy of the array.\n",
    "\n",
    "Example 1:\n",
    "Input: nums = [0,1,0,3,12]\n",
    "Output: [1,3,12,0,0]\n",
    "\n",
    "Example 2:\n",
    "Input: nums = [0]\n",
    "Output: [0]\n",
    "\n",
    "Constraints:\n",
    "a. 1 <= nums.length <= 10^4\n",
    "b. -2^31 <= nums[i] <= 2^31 - 1\n"
   ]
  },
  {
   "cell_type": "markdown",
   "id": "bb135c20",
   "metadata": {},
   "source": [
    "**ANS**"
   ]
  },
  {
   "cell_type": "code",
   "execution_count": 46,
   "id": "54215706",
   "metadata": {},
   "outputs": [],
   "source": [
    "def moveZeroes(nums):\n",
    "    # Index to keep track of the next position to place a non-zero element\n",
    "    non_zero_index = 0  \n",
    "    # Iterates through the array and move non-zero elements to the left\n",
    "    for i in range(len(nums)):\n",
    "        if nums[i] != 0:\n",
    "            nums[non_zero_index] = nums[i]\n",
    "            non_zero_index += 1\n",
    "    # Fills the remaining positions with zeroes\n",
    "    for i in range(non_zero_index, len(nums)):\n",
    "        nums[i] = 0"
   ]
  },
  {
   "cell_type": "code",
   "execution_count": 43,
   "id": "9b3ce273",
   "metadata": {},
   "outputs": [
    {
     "name": "stdout",
     "output_type": "stream",
     "text": [
      "[1, 3, 1, 2, 0, 0]\n"
     ]
    }
   ],
   "source": [
    "# Test case 1\n",
    "nums1 = [0, 1, 0, 3, 1, 2]\n",
    "moveZeroes(nums1)\n",
    "print(nums1)"
   ]
  },
  {
   "cell_type": "code",
   "execution_count": 44,
   "id": "b0de5f88",
   "metadata": {},
   "outputs": [
    {
     "name": "stdout",
     "output_type": "stream",
     "text": [
      "[0]\n"
     ]
    }
   ],
   "source": [
    "# Test case 2\n",
    "nums2 = [0]\n",
    "moveZeroes(nums2)\n",
    "print(nums2) "
   ]
  }
 ],
 "metadata": {
  "kernelspec": {
   "display_name": "Python 3 (ipykernel)",
   "language": "python",
   "name": "python3"
  },
  "language_info": {
   "codemirror_mode": {
    "name": "ipython",
    "version": 3
   },
   "file_extension": ".py",
   "mimetype": "text/x-python",
   "name": "python",
   "nbconvert_exporter": "python",
   "pygments_lexer": "ipython3",
   "version": "3.10.9"
  }
 },
 "nbformat": 4,
 "nbformat_minor": 5
}
