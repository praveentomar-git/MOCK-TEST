{
 "cells": [
  {
   "cell_type": "markdown",
   "id": "2cc1ef5c",
   "metadata": {},
   "source": [
    "**Question**\n",
    "Given a string s, find the first non-repeating character in it and return its index. If it does not exist, return -1.\n",
    "\n",
    "Example 1:\n",
    "Input: s = \"leetcode\"\n",
    "Output: 0\n",
    "\n",
    "Example 2:\n",
    "Input: s = \"loveleetcode\"\n",
    "Output: 2\n",
    "\n",
    "Example 3:\n",
    "Input: s = \"aabb\"\n",
    "Output: -1\n",
    "\n",
    "Constraints:\n",
    "a. 1 <= s.length <= 10^5\n",
    "b. s consists of only lowercase English letters.\n"
   ]
  },
  {
   "cell_type": "markdown",
   "id": "7794ea76",
   "metadata": {},
   "source": [
    "**ANS**"
   ]
  },
  {
   "cell_type": "code",
   "execution_count": 49,
   "id": "dc715d4d",
   "metadata": {},
   "outputs": [],
   "source": [
    "def firstUniqChar(s):\n",
    "    # We create a dictionary to count the occurrences of each character\n",
    "    char_counts = {}\n",
    "    \n",
    "    # Iterate through the string and count the occurrences of each character\n",
    "    for char in s:\n",
    "        char_counts[char] = char_counts.get(char, 0) + 1\n",
    "    \n",
    "    # Find the first character with a count of 1 in the original order\n",
    "    for i in range(len(s)):\n",
    "        if char_counts[s[i]] == 1:\n",
    "            return i\n",
    "    \n",
    "    return -1"
   ]
  },
  {
   "cell_type": "code",
   "execution_count": 50,
   "id": "e720cab3",
   "metadata": {},
   "outputs": [
    {
     "name": "stdout",
     "output_type": "stream",
     "text": [
      "0\n"
     ]
    }
   ],
   "source": [
    "# Test case 1\n",
    "s1 = \"leetcode\"\n",
    "print(firstUniqChar(s1))"
   ]
  },
  {
   "cell_type": "code",
   "execution_count": 51,
   "id": "c3dbaf4b",
   "metadata": {},
   "outputs": [
    {
     "name": "stdout",
     "output_type": "stream",
     "text": [
      "2\n"
     ]
    }
   ],
   "source": [
    "# Test case 2\n",
    "s2 = \"loveleetcode\"\n",
    "print(firstUniqChar(s2))  "
   ]
  },
  {
   "cell_type": "code",
   "execution_count": 52,
   "id": "e11acc55",
   "metadata": {},
   "outputs": [
    {
     "name": "stdout",
     "output_type": "stream",
     "text": [
      "-1\n"
     ]
    }
   ],
   "source": [
    "# Test case 3\n",
    "s3 = \"aabb\"\n",
    "print(firstUniqChar(s3))"
   ]
  },
  {
   "cell_type": "code",
   "execution_count": null,
   "id": "7c6dcd23",
   "metadata": {},
   "outputs": [],
   "source": []
  }
 ],
 "metadata": {
  "kernelspec": {
   "display_name": "Python 3 (ipykernel)",
   "language": "python",
   "name": "python3"
  },
  "language_info": {
   "codemirror_mode": {
    "name": "ipython",
    "version": 3
   },
   "file_extension": ".py",
   "mimetype": "text/x-python",
   "name": "python",
   "nbconvert_exporter": "python",
   "pygments_lexer": "ipython3",
   "version": "3.10.9"
  }
 },
 "nbformat": 4,
 "nbformat_minor": 5
}
